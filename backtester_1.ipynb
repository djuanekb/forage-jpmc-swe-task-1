{
  "nbformat": 4,
  "nbformat_minor": 0,
  "metadata": {
    "colab": {
      "provenance": [],
      "authorship_tag": "ABX9TyMrEXggeLDLA9luD7FatCmt",
      "include_colab_link": true
    },
    "kernelspec": {
      "name": "python3",
      "display_name": "Python 3"
    },
    "language_info": {
      "name": "python"
    }
  },
  "cells": [
    {
      "cell_type": "markdown",
      "metadata": {
        "id": "view-in-github",
        "colab_type": "text"
      },
      "source": [
        "<a href=\"https://colab.research.google.com/github/djuanekb/forage-jpmc-swe-task-1/blob/main/backtester_1.ipynb\" target=\"_parent\"><img src=\"https://colab.research.google.com/assets/colab-badge.svg\" alt=\"Open In Colab\"/></a>"
      ]
    },
    {
      "cell_type": "code",
      "execution_count": null,
      "metadata": {
        "id": "bwPNlyOnHVMS"
      },
      "outputs": [],
      "source": [
        "import numpy as np\n",
        "import pandas as pd\n",
        "import yfinance as yf"
      ]
    },
    {
      "cell_type": "code",
      "source": [
        "amzn = yf.download('AMZN', '2000-01-01', '2020-01-01')\n"
      ],
      "metadata": {
        "colab": {
          "base_uri": "https://localhost:8080/"
        },
        "id": "WprNhXt8Hf0s",
        "outputId": "e921bc2c-e0d4-4b58-e6f6-5504b27ad116"
      },
      "execution_count": null,
      "outputs": [
        {
          "output_type": "stream",
          "name": "stdout",
          "text": [
            "\r[*********************100%%**********************]  1 of 1 completed\n"
          ]
        }
      ]
    },
    {
      "cell_type": "code",
      "source": [
        "def sma(array, period):\n",
        "  \"\"\" simple moving average\"\"\"\n",
        "  return array.rolling(period).mean()"
      ],
      "metadata": {
        "id": "IZcEuM86Hugh"
      },
      "execution_count": null,
      "outputs": []
    },
    {
      "cell_type": "code",
      "source": [
        "sma14 = sma(amzn['Close'], 14)\n",
        "sma200 =sma(amzn['Close'], 200)\n",
        "print(sma14, sma200)"
      ],
      "metadata": {
        "colab": {
          "base_uri": "https://localhost:8080/"
        },
        "id": "9A-lJCPbIAAQ",
        "outputId": "936e6c00-45fa-49c4-8a0a-b6c7d4d4e3e5"
      },
      "execution_count": null,
      "outputs": [
        {
          "output_type": "stream",
          "name": "stdout",
          "text": [
            "Date\n",
            "2000-01-03          NaN\n",
            "2000-01-04          NaN\n",
            "2000-01-05          NaN\n",
            "2000-01-06          NaN\n",
            "2000-01-07          NaN\n",
            "                ...    \n",
            "2019-12-24    88.413143\n",
            "2019-12-26    88.871322\n",
            "2019-12-27    89.293464\n",
            "2019-12-30    89.641250\n",
            "2019-12-31    90.029213\n",
            "Name: Close, Length: 5031, dtype: float64 Date\n",
            "2000-01-03          NaN\n",
            "2000-01-04          NaN\n",
            "2000-01-05          NaN\n",
            "2000-01-06          NaN\n",
            "2000-01-07          NaN\n",
            "                ...    \n",
            "2019-12-24    91.192535\n",
            "2019-12-26    91.237025\n",
            "2019-12-27    91.282920\n",
            "2019-12-30    91.316552\n",
            "2019-12-31    91.342975\n",
            "Name: Close, Length: 5031, dtype: float64\n"
          ]
        }
      ]
    },
    {
      "cell_type": "code",
      "source": [
        "#simple strategy to buy when shorter term crosses above lower term\n",
        "#sell when short-term sma crosses below longer term\n",
        "\n",
        "def crossover(array1, array2):\n",
        "  \"\"\" buy signal\"\"\"\n",
        "  return array1 > array2\n",
        "\n",
        "def crossunder(array1, array2):\n",
        "  \"\"\" sell signal\"\"\"\n",
        "  return array1 < array2\n",
        "\n",
        "enter_rules = crossover(sma14, sma200)\n",
        "exit_rules = crossunder(sma14, sma200)\n",
        "\n",
        "print(enter_rules[enter_rules.index == '2000-10-13'])"
      ],
      "metadata": {
        "colab": {
          "base_uri": "https://localhost:8080/"
        },
        "id": "Vpm9vcUyIUsg",
        "outputId": "7000a236-be49-4c01-eddd-3068fce58732"
      },
      "execution_count": null,
      "outputs": [
        {
          "output_type": "stream",
          "name": "stdout",
          "text": [
            "Date\n",
            "2000-10-13    False\n",
            "Name: Close, dtype: bool\n"
          ]
        }
      ]
    },
    {
      "cell_type": "code",
      "source": [
        "#tracking ongoing\n",
        "\n",
        "def marketposition_generator(dataset, enter_rules, exit_rules):\n",
        "  \"\"\"\n",
        "    Takes three arguments\n",
        "    dataset: amzn datase\n",
        "    enter/exit_rules: marketpostion\n",
        "  \"\"\"\n",
        "\n",
        "  dataset['enter_rules'] = enter_rules\n",
        "  dataset['exit_rules'] = exit_rules\n",
        "\n",
        "\n",
        "  status = 0\n",
        "  #a switch that: boolean for marketposition\n",
        "  mp = []\n",
        "  # (1) when entering\n",
        "  # (0) when exiting\n",
        "\n",
        "  for (i, j) in zip(enter_rules, exit_rules):\n",
        "    if status == 0:\n",
        "      if i == 1 and j != -1:\n",
        "        status = 1\n",
        "    else:\n",
        "      if j == -1:\n",
        "        status = 0\n",
        "    mp.append(status)\n",
        "\n",
        "  #trades start one day later\n",
        "  dataset['mp'] = mp\n",
        "  dataset['mp'] = dataset['mp'].shift(1)\n",
        "  dataset.iloc[0,2] = 0\n",
        "\n",
        "  return dataset['mp']"
      ],
      "metadata": {
        "id": "_rBqIZhzI7eP"
      },
      "execution_count": null,
      "outputs": []
    },
    {
      "cell_type": "code",
      "source": [
        "#Defining backtest function\n",
        "COST = 0.50                 #every operation costs 0.50 (0.25 to buy and sell)\n",
        "INSTRUMENT = 1              #tested on Amazon stock\n",
        "OPERATION_MONEY = 10000     #intitial capital\n",
        "DIRECTION = 'long'          #testing for long trades\n",
        "ORDER_TYPE = 'market'       #strategy processes market orders\n",
        "ENTER_LEVEL = amzn['Open']  #entry price is the open price"
      ],
      "metadata": {
        "id": "kb1Cv_xnRXID"
      },
      "execution_count": null,
      "outputs": []
    },
    {
      "cell_type": "code",
      "source": [
        "def apply_trading_system(dataset, direction, order_type, enter_level, enter_rules, exit_rules):\n",
        "\n",
        "    #Adding the two boolean series and market position funcntion\n",
        "    dataset['enter_rules'] = enter_rules.apply(lambda x: 1 if x == True else 0)\n",
        "    dataset['exit_rules'] = exit_rules.apply(lambda x: -1 if x == True else 0)\n",
        "    dataset['mp'] = marketposition_generator(dataset['enter_rules'], dataset['exit_rules'])\n",
        "\n",
        "    #We put in market orders (buying quantity) if the sigal has changed on the previous day\n",
        "    if order_type == \"market\":\n",
        "        dataset['entry_price'] = np.where((dataset.mp.shift(1) == 0) &\n",
        "                                             (dataset.mp == 1), dataset.Open.shift(1), np.nan)\\\n",
        "        #Number of shares we buy as a ratio of Capital and entry_price\n",
        "        if INSTRUMENT == 1:\n",
        "            dataset['number_of_stocks'] = np.where((dataset.mp.shift(1) == 0) &\n",
        "                                                     (dataset.mp == 1), OPERATION_MONEY / dataset.Open, np.nan)\n",
        "\n",
        "    #Forward propagate the value of the entry price\n",
        "    dataset['entry_price'] = dataset['entry_price'].fillna(method='ffill')\n",
        "\n",
        "    #Forward propagate value of stocks as whole numbers\n",
        "    if INSTRUMENT == 1:\n",
        "        dataset['number_of_stocks'] = dataset['number_of_stocks']\\\n",
        "                                        .apply(lambda x: round(x, 0)).fillna(method='ffill')\n",
        "\n",
        "    #associate the label 'entry' to 'events_in' everytime mp moves from 0 to 1\n",
        "    dataset['events_in'] = np.where((dataset.mp == 1) & (dataset.mp.shift(1) == 0), 'entry', '')\n",
        "\n",
        "    #Defining long trades\n",
        "    if direction == 'long':\n",
        "        if INSTRUMENT == 1:\n",
        "            #\n",
        "            dataset['open_operations'] = (dataset.Close - dataset.entry_price) * dataset.number_of_stocks\n",
        "            dataset['open_operations'] = np.where((dataset.mp == 1) & (dataset.mp.shift(-1) == 0),\n",
        "                                                    (dataset.Open.shift(-1) - dataset.entry_price) * dataset.number_of_stocks - 2 * COSTS,\n",
        "                                                     dataset.open_operations)\n",
        "    else:\n",
        "        if INSTRUMENT == 1:\n",
        "            dataset['open_operations'] = (dataset.entry_price - dataset.Close) * dataset.number_of_stocks\n",
        "            dataset['open_operations'] = np.where((dataset.mp == 1) & (dataset.mp.shift(-1) == 0),\n",
        "                                                    (dataset.entry_price - dataset.Open.shift(-1)) * dataset.number_of_stocks - 2 * COSTS,\n",
        "                                                     dataset.open_operations)\n",
        "\n",
        "    dataset['open_operations'] = np.where(dataset.mp == 1, dataset.open_operations, 0)\n",
        "    dataset['events_out'] = np.where((dataset.mp == 1) & (dataset.exit_rules == -1), 'exit', '')\n",
        "    dataset['operations'] = np.where((dataset.exit_rules == -1) &\n",
        "                                       (dataset.mp == 1), dataset.open_operations, np.nan)\n",
        "    dataset['closed_equity'] = dataset.operations.fillna(0).cumsum()\n",
        "    dataset['open_equity'] = dataset.closed_equity + dataset.open_operations - dataset.operations.fillna(0)\n",
        "\n",
        "    dataset.to_csv('trading_system_export.csv')\n",
        "\n",
        "    return dataset"
      ],
      "metadata": {
        "id": "uHz0FItpziSP"
      },
      "execution_count": null,
      "outputs": []
    },
    {
      "cell_type": "code",
      "source": [],
      "metadata": {
        "id": "wVNxFUdCzxmn"
      },
      "execution_count": null,
      "outputs": []
    }
  ]
}